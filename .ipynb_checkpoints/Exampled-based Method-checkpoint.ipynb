{
 "cells": [
  {
   "cell_type": "markdown",
   "metadata": {},
   "source": [
    "# Algorithm principle"
   ]
  },
  {
   "cell_type": "markdown",
   "metadata": {},
   "source": [
    "The problem (ill-posed) is the following : we want to estimate the voxels of the HR image from the pixels of the low resolution image. To make it simpler, we can model the LR data as an average of the surrounding HR pixels :\n",
    "$$y_j = \\frac{1}{N} \\sum_{i=1}^{N} x_i + n \\text{,  where n is the Rician noise}$$\n",
    "The idea would then be to estimate the $x_i$ from the $y_j$, but we can see that there will be infinite values that will meet this condition. So we could first add a regularization term to limit the number of solutions, but regularization is known for destroying the high frequency content of the results, which is what we'd like to obtain.\n",
    "#### Here comes the example-based method :\n",
    "- Ideas : 1) Apply some filter to minimize the noise present in the LR data, \n",
    "<br, > 2) Subsampling consistency : impose the downsampled version of the reconstructed data to be the same as the original LR data\n",
    "- Data required : HR reference data, preinterpolated LR data\n",
    "- Iteratively update the reconstructed image voxels using the following idea : similar voxels in the HR tend to be similar in the reconstructed data, so averaging these with weights reflecting similar intensity in HR data and similar local context in LR data should help converging to a high frequency image, well aligned with the original LR image. Then, correct the voxels values so that they fit with the original LR data"
   ]
  },
  {
   "cell_type": "markdown",
   "metadata": {},
   "source": [
    "#### The steps to follow are the following :\n",
    "- Denoise the LR data to reconstruct (and the reference HR data for voxel similarity computations) : (BNLM3D filter optimal) we'll use standard NL means version because seems to perform OK  http://nipy.org/dipy/examples_built/denoise_nlmeans.html\n",
    "- Interpolate the LR data in order to get the same number of voxels than the HR reference : \n",
    "https://docs.scipy.org/doc/scipy/reference/generated/scipy.misc.imresize.html / \n",
    "http://scikit-image.org/docs/dev/api/skimage.transform.html#skimage.transform.resize\n",
    "- Iterate till the mean_absolute_error of the reconstructed data gets inferior to some tolerance :\n",
    "<br, > 1) Reconstruction\n",
    "<br, > 2) Mean correction : Nearest Neighbor interpolation (of the diff between the reconstructed data downsampled and the original LR data) withdrawn from the new reconstructed data."
   ]
  },
  {
   "cell_type": "markdown",
   "metadata": {},
   "source": [
    "#### Computations :\n",
    "- filtering step : use symmetric weights"
   ]
  },
  {
   "cell_type": "code",
   "execution_count": 1,
   "metadata": {
    "collapsed": true
   },
   "outputs": [],
   "source": [
    "# Questions/Remarks :\n",
    "# - 3D HR data available ? If no, use results from Super-Resolution ? Ask if we could get HR images ? \n",
    "#   Or do it on 2D-images ?\n",
    "# - Running time of 1 hour if very well optimized.. (so we should expected a lot more)"
   ]
  },
  {
   "cell_type": "code",
   "execution_count": 1,
   "metadata": {
    "collapsed": true
   },
   "outputs": [],
   "source": [
    "import numpy as np"
   ]
  },
  {
   "cell_type": "code",
   "execution_count": null,
   "metadata": {
    "collapsed": true
   },
   "outputs": [],
   "source": [
    "# Params\n",
    "search_volume_radius = 3  # (7*7*7 search volume) - very heavy / maybe begin with\n",
    "local_LR_neighborhood = 1. # (3*3*3 volume)\n",
    "h = [32, 16, 8, 4, 2]\n",
    "k = 256"
   ]
  },
  {
   "cell_type": "code",
   "execution_count": null,
   "metadata": {
    "collapsed": true
   },
   "outputs": [],
   "source": [
    "# Data\n",
    "HR_ref = '../'\n",
    "LR_img = None"
   ]
  },
  {
   "cell_type": "markdown",
   "metadata": {},
   "source": [
    "# If the data is 3D : "
   ]
  },
  {
   "cell_type": "markdown",
   "metadata": {},
   "source": [
    "#### EITHER : create a LR image from an HR one, and use it directly for computations"
   ]
  },
  {
   "cell_type": "code",
   "execution_count": 3,
   "metadata": {
    "collapsed": true
   },
   "outputs": [],
   "source": [
    "# If image LR already (closely related to the HR reference), then skip this.\n",
    "# Otherwise, let's create a LR image from the HR by blurring it.\n",
    "\n",
    "kernel = -1./26 * np.ones([3,3,3])\n",
    "kernel[1,1,1] = 1\n",
    "\n",
    "def blur_HR(HR_ref):\n",
    "    LR_img = np.copy(HR_ref)\n",
    "    m,n,p = LR_img.shape[0], LR_img.shape[1], LR_img.shape[2]\n",
    "    LR_img[1:(m-1), 1:(n-1), 1:(p-1)] = np.zeros(HR_ref.shape)\n",
    "    for i in range(1,LR_img.shape[0]-1):\n",
    "        for j in range(1,LR_img.shape[1]-1):\n",
    "            for k in range(1,LR_img.shape[3]-1):\n",
    "                LR_img[i,j,k] = np.sum(kernel*HR_ref[(i-1):(i+2),(j-1):(j+2),(k-1):(k+2)])\n",
    "    return LR_img"
   ]
  },
  {
   "cell_type": "markdown",
   "metadata": {},
   "source": [
    "#### OR : interpolate the LR image to resize it as the HR one, then it can be used for computations"
   ]
  },
  {
   "cell_type": "code",
   "execution_count": 29,
   "metadata": {},
   "outputs": [],
   "source": [
    "kernel = -1./26 * np.ones([3,3,3])\n",
    "kernel[1,1,1] = 1"
   ]
  },
  {
   "cell_type": "code",
   "execution_count": null,
   "metadata": {},
   "outputs": [],
   "source": []
  },
  {
   "cell_type": "markdown",
   "metadata": {},
   "source": [
    "#### Denoising the LR image (Rician noise) - (HR should be denoised also, but need to be careful that it doesn't screw the HR content)"
   ]
  },
  {
   "cell_type": "markdown",
   "metadata": {},
   "source": []
  },
  {
   "cell_type": "code",
   "execution_count": null,
   "metadata": {
    "collapsed": true
   },
   "outputs": [],
   "source": []
  }
 ],
 "metadata": {
  "kernelspec": {
   "display_name": "Python 3",
   "language": "python",
   "name": "python3"
  },
  "language_info": {
   "codemirror_mode": {
    "name": "ipython",
    "version": 3
   },
   "file_extension": ".py",
   "mimetype": "text/x-python",
   "name": "python",
   "nbconvert_exporter": "python",
   "pygments_lexer": "ipython3",
   "version": "3.6.1"
  }
 },
 "nbformat": 4,
 "nbformat_minor": 2
}
